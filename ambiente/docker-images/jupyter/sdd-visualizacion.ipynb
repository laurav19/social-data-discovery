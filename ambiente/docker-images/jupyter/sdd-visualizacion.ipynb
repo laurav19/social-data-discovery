{
 "cells": [
  {
   "cell_type": "markdown",
   "metadata": {},
   "source": [
    "# SparkSQL y Spark DataFrames"
   ]
  },
  {
   "cell_type": "markdown",
   "metadata": {},
   "source": [
    "`SparkSQL` nos permitirá integrar nuestras fuentes manejando JSON y PSV para generar la capa cruda de datos."
   ]
  },
  {
   "cell_type": "markdown",
   "metadata": {},
   "source": [
    "Como siempre, empezamos obtniendo el `SparkContext`"
   ]
  },
  {
   "cell_type": "code",
   "execution_count": 1,
   "metadata": {
    "collapsed": false
   },
   "outputs": [],
   "source": [
    "import pyspark\n",
    "sc = pyspark.SparkContext('local[*]')"
   ]
  },
  {
   "cell_type": "code",
   "execution_count": 2,
   "metadata": {
    "collapsed": true
   },
   "outputs": [],
   "source": [
    "sqlContext = pyspark.SQLContext(sc)"
   ]
  },
  {
   "cell_type": "code",
   "execution_count": 3,
   "metadata": {
    "collapsed": false
   },
   "outputs": [],
   "source": [
    "from pyspark.sql import Row\n",
    "import pandas as pd\n",
    "pd.set_option('display.mpl_style', 'default')"
   ]
  },
  {
   "cell_type": "markdown",
   "metadata": {},
   "source": [
    "## Validamos Tweepy.Stream"
   ]
  },
  {
   "cell_type": "markdown",
   "metadata": {},
   "source": [
    "Ahora leeremos el archivo de transacciones creado por Tweepy"
   ]
  },
  {
   "cell_type": "code",
   "execution_count": 4,
   "metadata": {
    "collapsed": false
   },
   "outputs": [
    {
     "name": "stdout",
     "output_type": "stream",
     "text": [
      "159 EARaw.json\r\n"
     ]
    }
   ],
   "source": [
    "! wc -l EARaw.json"
   ]
  },
  {
   "cell_type": "markdown",
   "metadata": {},
   "source": [
    "**NOTA**: Si marca error la última instrucción, regresa al laboratorio anterior y crea de nuevo el archivo."
   ]
  },
  {
   "cell_type": "markdown",
   "metadata": {},
   "source": [
    "## DataFrame desde JSON (Stage 1)"
   ]
  },
  {
   "cell_type": "markdown",
   "metadata": {},
   "source": [
    "Creamos **Stage #1** generamos la primera generación de datos pasando de JSON a SQLContext"
   ]
  },
  {
   "cell_type": "code",
   "execution_count": 5,
   "metadata": {
    "collapsed": false
   },
   "outputs": [],
   "source": [
    "EgyptAirJsons = sqlContext.read.json(\"EARaw.json\")\n",
    "EgyptAirJsons.registerTempTable(\"EgyptAirJsons\")\n",
    "pd_tbl_EARaw = sqlContext.sql('select id,text, created_at, user.time_zone from EgyptAirJsons ').toPandas()\n"
   ]
  },
  {
   "cell_type": "code",
   "execution_count": 6,
   "metadata": {
    "collapsed": false
   },
   "outputs": [
    {
     "data": {
      "text/html": [
       "<div>\n",
       "<table border=\"1\" class=\"dataframe\">\n",
       "  <thead>\n",
       "    <tr style=\"text-align: right;\">\n",
       "      <th></th>\n",
       "      <th>id</th>\n",
       "      <th>text</th>\n",
       "      <th>created_at</th>\n",
       "      <th>time_zone</th>\n",
       "    </tr>\n",
       "  </thead>\n",
       "  <tbody>\n",
       "    <tr>\n",
       "      <th>0</th>\n",
       "      <td>735673785936973826</td>\n",
       "      <td>RT @Shahram_Tavasol: EgyptAir to contract Fren...</td>\n",
       "      <td>Thu May 26 03:27:53 +0000 2016</td>\n",
       "      <td>None</td>\n",
       "    </tr>\n",
       "    <tr>\n",
       "      <th>1</th>\n",
       "      <td>735673874319298560</td>\n",
       "      <td>Avión del #vuelo804 de @EGYPTAIR no presentaba...</td>\n",
       "      <td>Thu May 26 03:28:14 +0000 2016</td>\n",
       "      <td>Eastern Time (US &amp; Canada)</td>\n",
       "    </tr>\n",
       "    <tr>\n",
       "      <th>2</th>\n",
       "      <td>735674004627947520</td>\n",
       "      <td>#IndonesiaHealth Memilah Fakta dan Dugaan di B...</td>\n",
       "      <td>Thu May 26 03:28:45 +0000 2016</td>\n",
       "      <td>Jakarta</td>\n",
       "    </tr>\n",
       "    <tr>\n",
       "      <th>3</th>\n",
       "      <td>735674024848723968</td>\n",
       "      <td>Perusahaan Perancis dan Italia Bantu Pencarian...</td>\n",
       "      <td>Thu May 26 03:28:50 +0000 2016</td>\n",
       "      <td>Jakarta</td>\n",
       "    </tr>\n",
       "    <tr>\n",
       "      <th>4</th>\n",
       "      <td>735674069291520000</td>\n",
       "      <td>RT @ElNacionalWeb: Difundieron audio del vuelo...</td>\n",
       "      <td>Thu May 26 03:29:00 +0000 2016</td>\n",
       "      <td>None</td>\n",
       "    </tr>\n",
       "  </tbody>\n",
       "</table>\n",
       "</div>"
      ],
      "text/plain": [
       "                   id                                               text  \\\n",
       "0  735673785936973826  RT @Shahram_Tavasol: EgyptAir to contract Fren...   \n",
       "1  735673874319298560  Avión del #vuelo804 de @EGYPTAIR no presentaba...   \n",
       "2  735674004627947520  #IndonesiaHealth Memilah Fakta dan Dugaan di B...   \n",
       "3  735674024848723968  Perusahaan Perancis dan Italia Bantu Pencarian...   \n",
       "4  735674069291520000  RT @ElNacionalWeb: Difundieron audio del vuelo...   \n",
       "\n",
       "                       created_at                   time_zone  \n",
       "0  Thu May 26 03:27:53 +0000 2016                        None  \n",
       "1  Thu May 26 03:28:14 +0000 2016  Eastern Time (US & Canada)  \n",
       "2  Thu May 26 03:28:45 +0000 2016                     Jakarta  \n",
       "3  Thu May 26 03:28:50 +0000 2016                     Jakarta  \n",
       "4  Thu May 26 03:29:00 +0000 2016                        None  "
      ]
     },
     "execution_count": 6,
     "metadata": {},
     "output_type": "execute_result"
    }
   ],
   "source": [
    "pd_tbl_EARaw.head()"
   ]
  },
  {
   "cell_type": "markdown",
   "metadata": {},
   "source": [
    "## RDD desde PSV (Stage 2)"
   ]
  },
  {
   "cell_type": "markdown",
   "metadata": {},
   "source": [
    "Creamos **Stage #2** generamos la segunda extracción de datos pasando de RDD a SQLContext, esto para lograr la consolidación del resto de la inforamación."
   ]
  },
  {
   "cell_type": "code",
   "execution_count": 7,
   "metadata": {
    "collapsed": false
   },
   "outputs": [],
   "source": [
    "def getTransaccion(linea):\n",
    "    cells = linea.split('|')\n",
    "    cells[2] = str(cells[2])\n",
    "    return Transaccion(*cells)"
   ]
  },
  {
   "cell_type": "markdown",
   "metadata": {},
   "source": [
    "Creamos **Stage #2** generamos la segunda extracción de datos pasando de RDD a SQLContext, esto para lograr la consolidación del resto de la inforamación."
   ]
  },
  {
   "cell_type": "code",
   "execution_count": 8,
   "metadata": {
    "collapsed": true
   },
   "outputs": [],
   "source": [
    "txs_rdd = sc.textFile(\"EASentiment.psv\")\n",
    "Transaccion = Row('id', 'sentiment', 'polarity')\n",
    "txs = txs_rdd.map(getTransaccion)\n",
    "txs_df = txs.toDF()\n",
    "txs_df.registerTempTable('EASentiment')\n",
    "pd_tbl_EASentiment = sqlContext.sql('select id, sentiment, polarity from EASentiment ').toPandas()"
   ]
  },
  {
   "cell_type": "code",
   "execution_count": 9,
   "metadata": {
    "collapsed": false
   },
   "outputs": [
    {
     "data": {
      "text/html": [
       "<div>\n",
       "<table border=\"1\" class=\"dataframe\">\n",
       "  <thead>\n",
       "    <tr style=\"text-align: right;\">\n",
       "      <th></th>\n",
       "      <th>id</th>\n",
       "      <th>sentiment</th>\n",
       "      <th>polarity</th>\n",
       "    </tr>\n",
       "  </thead>\n",
       "  <tbody>\n",
       "    <tr>\n",
       "      <th>0</th>\n",
       "      <td>735673785936973826</td>\n",
       "      <td>negativo</td>\n",
       "      <td>-0.05555555555555555</td>\n",
       "    </tr>\n",
       "    <tr>\n",
       "      <th>1</th>\n",
       "      <td>735673874319298560</td>\n",
       "      <td>neutral</td>\n",
       "      <td>0.0</td>\n",
       "    </tr>\n",
       "    <tr>\n",
       "      <th>2</th>\n",
       "      <td>735674004627947520</td>\n",
       "      <td>neutral</td>\n",
       "      <td>0.0</td>\n",
       "    </tr>\n",
       "    <tr>\n",
       "      <th>3</th>\n",
       "      <td>735674024848723968</td>\n",
       "      <td>neutral</td>\n",
       "      <td>0.0</td>\n",
       "    </tr>\n",
       "    <tr>\n",
       "      <th>4</th>\n",
       "      <td>735674069291520000</td>\n",
       "      <td>neutral</td>\n",
       "      <td>0.0</td>\n",
       "    </tr>\n",
       "  </tbody>\n",
       "</table>\n",
       "</div>"
      ],
      "text/plain": [
       "                   id sentiment              polarity\n",
       "0  735673785936973826  negativo  -0.05555555555555555\n",
       "1  735673874319298560   neutral                   0.0\n",
       "2  735674004627947520   neutral                   0.0\n",
       "3  735674024848723968   neutral                   0.0\n",
       "4  735674069291520000   neutral                   0.0"
      ]
     },
     "execution_count": 9,
     "metadata": {},
     "output_type": "execute_result"
    }
   ],
   "source": [
    "pd_tbl_EASentiment.head()"
   ]
  },
  {
   "cell_type": "markdown",
   "metadata": {},
   "source": [
    "## DF y SQLContext (Stage 3)"
   ]
  },
  {
   "cell_type": "markdown",
   "metadata": {},
   "source": [
    "Se integra la información para tener los datos **consolidados**"
   ]
  },
  {
   "cell_type": "code",
   "execution_count": 10,
   "metadata": {
    "collapsed": true
   },
   "outputs": [],
   "source": [
    "pd_jnr_Consolidado = sqlContext.sql('SELECT EASentiment.id, EASentiment.sentiment, EASentiment.polarity, EgyptAirJsons.text, EgyptAirJsons.created_at, EgyptAirJsons.user.time_zone '\\\n",
    "                                    'FROM EASentiment, EgyptAirJsons ' \\\n",
    "                                    'WHERE EASentiment.id = EgyptAirJsons.id').toPandas()"
   ]
  },
  {
   "cell_type": "code",
   "execution_count": 11,
   "metadata": {
    "collapsed": false
   },
   "outputs": [
    {
     "data": {
      "text/html": [
       "<div>\n",
       "<table border=\"1\" class=\"dataframe\">\n",
       "  <thead>\n",
       "    <tr style=\"text-align: right;\">\n",
       "      <th></th>\n",
       "      <th>id</th>\n",
       "      <th>sentiment</th>\n",
       "      <th>polarity</th>\n",
       "      <th>text</th>\n",
       "      <th>created_at</th>\n",
       "      <th>time_zone</th>\n",
       "    </tr>\n",
       "  </thead>\n",
       "  <tbody>\n",
       "    <tr>\n",
       "      <th>0</th>\n",
       "      <td>735673785936973826</td>\n",
       "      <td>negativo</td>\n",
       "      <td>-0.05555555555555555</td>\n",
       "      <td>RT @Shahram_Tavasol: EgyptAir to contract Fren...</td>\n",
       "      <td>Thu May 26 03:27:53 +0000 2016</td>\n",
       "      <td>None</td>\n",
       "    </tr>\n",
       "    <tr>\n",
       "      <th>1</th>\n",
       "      <td>735673874319298560</td>\n",
       "      <td>neutral</td>\n",
       "      <td>0.0</td>\n",
       "      <td>Avión del #vuelo804 de @EGYPTAIR no presentaba...</td>\n",
       "      <td>Thu May 26 03:28:14 +0000 2016</td>\n",
       "      <td>Eastern Time (US &amp; Canada)</td>\n",
       "    </tr>\n",
       "    <tr>\n",
       "      <th>2</th>\n",
       "      <td>735674004627947520</td>\n",
       "      <td>neutral</td>\n",
       "      <td>0.0</td>\n",
       "      <td>#IndonesiaHealth Memilah Fakta dan Dugaan di B...</td>\n",
       "      <td>Thu May 26 03:28:45 +0000 2016</td>\n",
       "      <td>Jakarta</td>\n",
       "    </tr>\n",
       "    <tr>\n",
       "      <th>3</th>\n",
       "      <td>735674024848723968</td>\n",
       "      <td>neutral</td>\n",
       "      <td>0.0</td>\n",
       "      <td>Perusahaan Perancis dan Italia Bantu Pencarian...</td>\n",
       "      <td>Thu May 26 03:28:50 +0000 2016</td>\n",
       "      <td>Jakarta</td>\n",
       "    </tr>\n",
       "    <tr>\n",
       "      <th>4</th>\n",
       "      <td>735674069291520000</td>\n",
       "      <td>neutral</td>\n",
       "      <td>0.0</td>\n",
       "      <td>RT @ElNacionalWeb: Difundieron audio del vuelo...</td>\n",
       "      <td>Thu May 26 03:29:00 +0000 2016</td>\n",
       "      <td>None</td>\n",
       "    </tr>\n",
       "  </tbody>\n",
       "</table>\n",
       "</div>"
      ],
      "text/plain": [
       "                   id sentiment              polarity  \\\n",
       "0  735673785936973826  negativo  -0.05555555555555555   \n",
       "1  735673874319298560   neutral                   0.0   \n",
       "2  735674004627947520   neutral                   0.0   \n",
       "3  735674024848723968   neutral                   0.0   \n",
       "4  735674069291520000   neutral                   0.0   \n",
       "\n",
       "                                                text  \\\n",
       "0  RT @Shahram_Tavasol: EgyptAir to contract Fren...   \n",
       "1  Avión del #vuelo804 de @EGYPTAIR no presentaba...   \n",
       "2  #IndonesiaHealth Memilah Fakta dan Dugaan di B...   \n",
       "3  Perusahaan Perancis dan Italia Bantu Pencarian...   \n",
       "4  RT @ElNacionalWeb: Difundieron audio del vuelo...   \n",
       "\n",
       "                       created_at                   time_zone  \n",
       "0  Thu May 26 03:27:53 +0000 2016                        None  \n",
       "1  Thu May 26 03:28:14 +0000 2016  Eastern Time (US & Canada)  \n",
       "2  Thu May 26 03:28:45 +0000 2016                     Jakarta  \n",
       "3  Thu May 26 03:28:50 +0000 2016                     Jakarta  \n",
       "4  Thu May 26 03:29:00 +0000 2016                        None  "
      ]
     },
     "execution_count": 11,
     "metadata": {},
     "output_type": "execute_result"
    }
   ],
   "source": [
    "pd_jnr_Consolidado.head()"
   ]
  },
  {
   "cell_type": "markdown",
   "metadata": {},
   "source": [
    "## Analisis de Datos con Pandas"
   ]
  },
  {
   "cell_type": "code",
   "execution_count": 15,
   "metadata": {
    "collapsed": false
   },
   "outputs": [
    {
     "data": {
      "text/html": [
       "<div>\n",
       "<table border=\"1\" class=\"dataframe\">\n",
       "  <thead>\n",
       "    <tr style=\"text-align: right;\">\n",
       "      <th></th>\n",
       "      <th>total_time_zone</th>\n",
       "    </tr>\n",
       "    <tr>\n",
       "      <th>time_zone</th>\n",
       "      <th></th>\n",
       "    </tr>\n",
       "  </thead>\n",
       "  <tbody>\n",
       "    <tr>\n",
       "      <th>Pacific Time (US &amp; Canada)</th>\n",
       "      <td>20</td>\n",
       "    </tr>\n",
       "    <tr>\n",
       "      <th>Caracas</th>\n",
       "      <td>11</td>\n",
       "    </tr>\n",
       "    <tr>\n",
       "      <th>Jakarta</th>\n",
       "      <td>7</td>\n",
       "    </tr>\n",
       "    <tr>\n",
       "      <th>Cairo</th>\n",
       "      <td>6</td>\n",
       "    </tr>\n",
       "    <tr>\n",
       "      <th>Eastern Time (US &amp; Canada)</th>\n",
       "      <td>5</td>\n",
       "    </tr>\n",
       "  </tbody>\n",
       "</table>\n",
       "</div>"
      ],
      "text/plain": [
       "                            total_time_zone\n",
       "time_zone                                  \n",
       "Pacific Time (US & Canada)               20\n",
       "Caracas                                  11\n",
       "Jakarta                                   7\n",
       "Cairo                                     6\n",
       "Eastern Time (US & Canada)                5"
      ]
     },
     "execution_count": 15,
     "metadata": {},
     "output_type": "execute_result"
    }
   ],
   "source": [
    "projects_by_country = sqlContext.sql('select user.time_zone, count(user.time_zone) as total_time_zone from EgyptAirJsons group by user.time_zone order by total_time_zone desc')\n",
    "projects_by_country_pd = projects_by_country.toPandas()\n",
    "projects_by_country_pd=projects_by_country_pd.set_index(['time_zone'])\n",
    "projects_by_country_pd.head()"
   ]
  },
  {
   "cell_type": "code",
   "execution_count": 16,
   "metadata": {
    "collapsed": false
   },
   "outputs": [
    {
     "name": "stdout",
     "output_type": "stream",
     "text": [
      "Populating the interactive namespace from numpy and matplotlib\n"
     ]
    },
    {
     "data": {
      "text/plain": [
       "<matplotlib.axes._subplots.AxesSubplot at 0x7ff9e00581d0>"
      ]
     },
     "execution_count": 16,
     "metadata": {},
     "output_type": "execute_result"
    },
    {
     "name": "stderr",
     "output_type": "stream",
     "text": [
      "/opt/conda/lib/python3.5/site-packages/matplotlib/font_manager.py:1288: UserWarning: findfont: Font family ['monospace'] not found. Falling back to Bitstream Vera Sans\n",
      "  (prop.get_family(), self.defaultFamily[fontext]))\n"
     ]
    },
    {
     "data": {
      "image/png": "[encoded data removed]",
      "text/plain": [
       "<matplotlib.figure.Figure at 0x7ff9e0044748>"
      ]
     },
     "metadata": {},
     "output_type": "display_data"
    }
   ],
   "source": [
    "%pylab inline\n",
    "#plt.rcParams['figure.fixzise'] = (10,10)\n",
    "projects_by_country_pd['total_time_zone'][:10].plot(kind='barh', rot=0, )"
   ]
  },
  {
   "cell_type": "code",
   "execution_count": null,
   "metadata": {
    "collapsed": true
   },
   "outputs": [],
   "source": []
  }
 ],
 "metadata": {
  "kernelspec": {
   "display_name": "Python 3",
   "language": "python",
   "name": "python3"
  },
  "language_info": {
   "codemirror_mode": {
    "name": "ipython",
    "version": 3
   },
   "file_extension": ".py",
   "mimetype": "text/x-python",
   "name": "python",
   "nbconvert_exporter": "python",
   "pygments_lexer": "ipython3",
   "version": "3.5.1"
  },
  "widgets": {
   "state": {},
   "version": "1.1.1"
  }
 },
 "nbformat": 4,
 "nbformat_minor": 0
}
