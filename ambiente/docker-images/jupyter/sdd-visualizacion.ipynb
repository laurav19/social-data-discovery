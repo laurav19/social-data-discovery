{
 "cells": [
  {
   "cell_type": "markdown",
   "metadata": {},
   "source": [
    "# SparkSQL y Spark DataFrames"
   ]
  },
  {
   "cell_type": "markdown",
   "metadata": {},
   "source": [
    "`SparkSQL` nos permitirá integrar nuestras fuentes manejando JSON y PSV para generar la capa cruda de datos."
   ]
  },
  {
   "cell_type": "markdown",
   "metadata": {},
   "source": [
    "Como siempre, empezamos obtniendo el `SparkContext`"
   ]
  },
  {
   "cell_type": "code",
   "execution_count": 1,
   "metadata": {
    "collapsed": false
   },
   "outputs": [],
   "source": [
    "import pyspark\n",
    "sc = pyspark.SparkContext('local[*]')"
   ]
  },
  {
   "cell_type": "code",
   "execution_count": 2,
   "metadata": {
    "collapsed": true
   },
   "outputs": [],
   "source": [
    "sqlContext = pyspark.SQLContext(sc)"
   ]
  },
  {
   "cell_type": "code",
   "execution_count": 14,
   "metadata": {
    "collapsed": false
   },
   "outputs": [],
   "source": [
    "from pyspark.sql import Row\n",
    "from datetime import datetime\n",
    "import pandas as pd\n",
    "import matplotlib.pyplot as plt\n",
    "import matplotlib\n",
    "matplotlib.style.use('ggplot')\n",
    "pd.set_option('display.mpl_style', 'default')\n",
    "get_ipython().magic('matplotlib inline')\n",
    "plt.rcParams['figure.figsize'] = (15, 5)"
   ]
  },
  {
   "cell_type": "markdown",
   "metadata": {},
   "source": [
    "## Validamos Tweepy.Stream"
   ]
  },
  {
   "cell_type": "markdown",
   "metadata": {},
   "source": [
    "Ahora leeremos el archivo de transacciones creado por Tweepy"
   ]
  },
  {
   "cell_type": "code",
   "execution_count": 4,
   "metadata": {
    "collapsed": false
   },
   "outputs": [
    {
     "name": "stdout",
     "output_type": "stream",
     "text": [
      "    433 EASentiment.psv\r\n",
      "    433 EARaw.json\r\n",
      "    866 total\r\n"
     ]
    }
   ],
   "source": [
    "! wc -l EASentiment.psv EARaw.json"
   ]
  },
  {
   "cell_type": "markdown",
   "metadata": {},
   "source": [
    "**NOTA**: Aqui validamos que se este generando el archivo con los comentarios de Tweeter.\n",
    "   - El archivo EASentiment.psv, contiene la calificación del Sentimiento del mensaje, donde los valores pueden ser:\n",
    "       - muy negativo\n",
    "       - negativo\n",
    "       - neutral\n",
    "       - positivo\n",
    "       - muy positivo\n",
    "   - El archivo EARaw.json, contiene los datos completos del mensaje y se consideran todos dado que hay información categorica para tener mayor detalle, donde los campos considerados son:\n",
    "       - Texto\n",
    "       - Fecha de creación\n",
    "       - Zona Horario"
   ]
  },
  {
   "cell_type": "markdown",
   "metadata": {},
   "source": [
    "## DataFrame desde JSON (Stage 1)"
   ]
  },
  {
   "cell_type": "markdown",
   "metadata": {},
   "source": [
    "Creamos **Stage #1** generamos la primera generación de datos pasando de JSON a SQLContext"
   ]
  },
  {
   "cell_type": "code",
   "execution_count": 5,
   "metadata": {
    "collapsed": false
   },
   "outputs": [],
   "source": [
    "EgyptAirJsons = sqlContext.read.json(\"EARaw.json\")\n",
    "EgyptAirJsons.registerTempTable(\"EgyptAirJsons\")\n",
    "pd_tbl_EARaw = sqlContext.sql('select id,text, created_at, user.time_zone from EgyptAirJsons ').toPandas()\n"
   ]
  },
  {
   "cell_type": "code",
   "execution_count": 6,
   "metadata": {
    "collapsed": false
   },
   "outputs": [
    {
     "data": {
      "text/html": [
       "<div>\n",
       "<table border=\"1\" class=\"dataframe\">\n",
       "  <thead>\n",
       "    <tr style=\"text-align: right;\">\n",
       "      <th></th>\n",
       "      <th>id</th>\n",
       "      <th>text</th>\n",
       "      <th>created_at</th>\n",
       "      <th>time_zone</th>\n",
       "    </tr>\n",
       "  </thead>\n",
       "  <tbody>\n",
       "    <tr>\n",
       "      <th>0</th>\n",
       "      <td>735814134348943360</td>\n",
       "      <td>RT @HuffPostCanada: Canadian killed in EgyptAi...</td>\n",
       "      <td>Thu May 26 12:45:35 +0000 2016</td>\n",
       "      <td>None</td>\n",
       "    </tr>\n",
       "    <tr>\n",
       "      <th>1</th>\n",
       "      <td>735814180255600645</td>\n",
       "      <td>@BBCBreaking #IsraelTestsIronDomeAtSea #EgyptA...</td>\n",
       "      <td>Thu May 26 12:45:45 +0000 2016</td>\n",
       "      <td>Central Time (US &amp; Canada)</td>\n",
       "    </tr>\n",
       "    <tr>\n",
       "      <th>2</th>\n",
       "      <td>735814203794018306</td>\n",
       "      <td>#aviation #avgeeks #pas13 - https://t.co/LipcZ...</td>\n",
       "      <td>Thu May 26 12:45:51 +0000 2016</td>\n",
       "      <td>None</td>\n",
       "    </tr>\n",
       "    <tr>\n",
       "      <th>3</th>\n",
       "      <td>735814248794836992</td>\n",
       "      <td>Airbus : Searchers Detect Emergency Signal of ...</td>\n",
       "      <td>Thu May 26 12:46:02 +0000 2016</td>\n",
       "      <td>Eastern Time (US &amp; Canada)</td>\n",
       "    </tr>\n",
       "    <tr>\n",
       "      <th>4</th>\n",
       "      <td>735814285062868993</td>\n",
       "      <td>The Egyptair conspiracy theory sweeping the Ar...</td>\n",
       "      <td>Thu May 26 12:46:10 +0000 2016</td>\n",
       "      <td>Pacific Time (US &amp; Canada)</td>\n",
       "    </tr>\n",
       "  </tbody>\n",
       "</table>\n",
       "</div>"
      ],
      "text/plain": [
       "                   id                                               text  \\\n",
       "0  735814134348943360  RT @HuffPostCanada: Canadian killed in EgyptAi...   \n",
       "1  735814180255600645  @BBCBreaking #IsraelTestsIronDomeAtSea #EgyptA...   \n",
       "2  735814203794018306  #aviation #avgeeks #pas13 - https://t.co/LipcZ...   \n",
       "3  735814248794836992  Airbus : Searchers Detect Emergency Signal of ...   \n",
       "4  735814285062868993  The Egyptair conspiracy theory sweeping the Ar...   \n",
       "\n",
       "                       created_at                   time_zone  \n",
       "0  Thu May 26 12:45:35 +0000 2016                        None  \n",
       "1  Thu May 26 12:45:45 +0000 2016  Central Time (US & Canada)  \n",
       "2  Thu May 26 12:45:51 +0000 2016                        None  \n",
       "3  Thu May 26 12:46:02 +0000 2016  Eastern Time (US & Canada)  \n",
       "4  Thu May 26 12:46:10 +0000 2016  Pacific Time (US & Canada)  "
      ]
     },
     "execution_count": 6,
     "metadata": {},
     "output_type": "execute_result"
    }
   ],
   "source": [
    "pd_tbl_EARaw.head()"
   ]
  },
  {
   "cell_type": "markdown",
   "metadata": {},
   "source": [
    "## RDD desde PSV (Stage 2)"
   ]
  },
  {
   "cell_type": "markdown",
   "metadata": {},
   "source": [
    "Creamos **Stage #2** generamos la segunda extracción de datos pasando de RDD a SQLContext, esto para lograr la consolidación del resto de la inforamación."
   ]
  },
  {
   "cell_type": "code",
   "execution_count": 7,
   "metadata": {
    "collapsed": false
   },
   "outputs": [],
   "source": [
    "def getTransaccion(linea):\n",
    "    cells = linea.split('|')\n",
    "    cells[2] = str(cells[2])\n",
    "    return Transaccion(*cells)"
   ]
  },
  {
   "cell_type": "markdown",
   "metadata": {},
   "source": [
    "Creamos **Stage #2** reutilizamos funcion desarrollda en la clase DPA para lectura y formate del schema para RDD."
   ]
  },
  {
   "cell_type": "code",
   "execution_count": 8,
   "metadata": {
    "collapsed": true
   },
   "outputs": [],
   "source": [
    "txs_rdd = sc.textFile(\"EASentiment.psv\")\n",
    "Transaccion = Row('id', 'sentiment', 'polarity')\n",
    "txs = txs_rdd.map(getTransaccion)\n",
    "txs_df = txs.toDF()\n",
    "txs_df.registerTempTable('EASentiment')\n",
    "pd_tbl_EASentiment = sqlContext.sql('select id, sentiment, polarity from EASentiment ').toPandas()"
   ]
  },
  {
   "cell_type": "code",
   "execution_count": 9,
   "metadata": {
    "collapsed": false
   },
   "outputs": [
    {
     "data": {
      "text/html": [
       "<div>\n",
       "<table border=\"1\" class=\"dataframe\">\n",
       "  <thead>\n",
       "    <tr style=\"text-align: right;\">\n",
       "      <th></th>\n",
       "      <th>id</th>\n",
       "      <th>sentiment</th>\n",
       "      <th>polarity</th>\n",
       "    </tr>\n",
       "  </thead>\n",
       "  <tbody>\n",
       "    <tr>\n",
       "      <th>0</th>\n",
       "      <td>735814134348943360</td>\n",
       "      <td>negativo</td>\n",
       "      <td>-0.2</td>\n",
       "    </tr>\n",
       "    <tr>\n",
       "      <th>1</th>\n",
       "      <td>735814180255600645</td>\n",
       "      <td>neutral</td>\n",
       "      <td>0.0</td>\n",
       "    </tr>\n",
       "    <tr>\n",
       "      <th>2</th>\n",
       "      <td>735814203794018306</td>\n",
       "      <td>neutral</td>\n",
       "      <td>0.0</td>\n",
       "    </tr>\n",
       "    <tr>\n",
       "      <th>3</th>\n",
       "      <td>735814248794836992</td>\n",
       "      <td>neutral</td>\n",
       "      <td>0.0</td>\n",
       "    </tr>\n",
       "    <tr>\n",
       "      <th>4</th>\n",
       "      <td>735814285062868993</td>\n",
       "      <td>neutral</td>\n",
       "      <td>0.0</td>\n",
       "    </tr>\n",
       "  </tbody>\n",
       "</table>\n",
       "</div>"
      ],
      "text/plain": [
       "                   id sentiment polarity\n",
       "0  735814134348943360  negativo     -0.2\n",
       "1  735814180255600645   neutral      0.0\n",
       "2  735814203794018306   neutral      0.0\n",
       "3  735814248794836992   neutral      0.0\n",
       "4  735814285062868993   neutral      0.0"
      ]
     },
     "execution_count": 9,
     "metadata": {},
     "output_type": "execute_result"
    }
   ],
   "source": [
    "pd_tbl_EASentiment.head()"
   ]
  },
  {
   "cell_type": "markdown",
   "metadata": {},
   "source": [
    "## DF y SQLContext (Stage 3)"
   ]
  },
  {
   "cell_type": "markdown",
   "metadata": {},
   "source": [
    "Se integra la información para tener los datos **consolidados**"
   ]
  },
  {
   "cell_type": "code",
   "execution_count": 10,
   "metadata": {
    "collapsed": false
   },
   "outputs": [],
   "source": [
    "pd_jnr_Consolidado = sqlContext.sql('SELECT EASentiment.id, EASentiment.sentiment, EASentiment.polarity, EgyptAirJsons.text, EgyptAirJsons.created_at, EgyptAirJsons.user.time_zone '\\\n",
    "                                    'FROM EASentiment, EgyptAirJsons ' \\\n",
    "                                    'WHERE EASentiment.id = EgyptAirJsons.id')\n",
    "pd_jnr_Consolidado.registerTempTable('EAConsolidado')\n",
    "pd_jnr_EAConsolidado = pd_jnr_Consolidado.toPandas()"
   ]
  },
  {
   "cell_type": "code",
   "execution_count": 11,
   "metadata": {
    "collapsed": false
   },
   "outputs": [
    {
     "data": {
      "text/html": [
       "<div>\n",
       "<table border=\"1\" class=\"dataframe\">\n",
       "  <thead>\n",
       "    <tr style=\"text-align: right;\">\n",
       "      <th></th>\n",
       "      <th>id</th>\n",
       "      <th>sentiment</th>\n",
       "      <th>polarity</th>\n",
       "      <th>text</th>\n",
       "      <th>created_at</th>\n",
       "      <th>time_zone</th>\n",
       "    </tr>\n",
       "  </thead>\n",
       "  <tbody>\n",
       "    <tr>\n",
       "      <th>0</th>\n",
       "      <td>735814134348943360</td>\n",
       "      <td>negativo</td>\n",
       "      <td>-0.2</td>\n",
       "      <td>RT @HuffPostCanada: Canadian killed in EgyptAi...</td>\n",
       "      <td>Thu May 26 12:45:35 +0000 2016</td>\n",
       "      <td>None</td>\n",
       "    </tr>\n",
       "    <tr>\n",
       "      <th>1</th>\n",
       "      <td>735814180255600645</td>\n",
       "      <td>neutral</td>\n",
       "      <td>0.0</td>\n",
       "      <td>@BBCBreaking #IsraelTestsIronDomeAtSea #EgyptA...</td>\n",
       "      <td>Thu May 26 12:45:45 +0000 2016</td>\n",
       "      <td>Central Time (US &amp; Canada)</td>\n",
       "    </tr>\n",
       "    <tr>\n",
       "      <th>2</th>\n",
       "      <td>735814203794018306</td>\n",
       "      <td>neutral</td>\n",
       "      <td>0.0</td>\n",
       "      <td>#aviation #avgeeks #pas13 - https://t.co/LipcZ...</td>\n",
       "      <td>Thu May 26 12:45:51 +0000 2016</td>\n",
       "      <td>None</td>\n",
       "    </tr>\n",
       "    <tr>\n",
       "      <th>3</th>\n",
       "      <td>735814248794836992</td>\n",
       "      <td>neutral</td>\n",
       "      <td>0.0</td>\n",
       "      <td>Airbus : Searchers Detect Emergency Signal of ...</td>\n",
       "      <td>Thu May 26 12:46:02 +0000 2016</td>\n",
       "      <td>Eastern Time (US &amp; Canada)</td>\n",
       "    </tr>\n",
       "    <tr>\n",
       "      <th>4</th>\n",
       "      <td>735814285062868993</td>\n",
       "      <td>neutral</td>\n",
       "      <td>0.0</td>\n",
       "      <td>The Egyptair conspiracy theory sweeping the Ar...</td>\n",
       "      <td>Thu May 26 12:46:10 +0000 2016</td>\n",
       "      <td>Pacific Time (US &amp; Canada)</td>\n",
       "    </tr>\n",
       "  </tbody>\n",
       "</table>\n",
       "</div>"
      ],
      "text/plain": [
       "                   id sentiment polarity  \\\n",
       "0  735814134348943360  negativo     -0.2   \n",
       "1  735814180255600645   neutral      0.0   \n",
       "2  735814203794018306   neutral      0.0   \n",
       "3  735814248794836992   neutral      0.0   \n",
       "4  735814285062868993   neutral      0.0   \n",
       "\n",
       "                                                text  \\\n",
       "0  RT @HuffPostCanada: Canadian killed in EgyptAi...   \n",
       "1  @BBCBreaking #IsraelTestsIronDomeAtSea #EgyptA...   \n",
       "2  #aviation #avgeeks #pas13 - https://t.co/LipcZ...   \n",
       "3  Airbus : Searchers Detect Emergency Signal of ...   \n",
       "4  The Egyptair conspiracy theory sweeping the Ar...   \n",
       "\n",
       "                       created_at                   time_zone  \n",
       "0  Thu May 26 12:45:35 +0000 2016                        None  \n",
       "1  Thu May 26 12:45:45 +0000 2016  Central Time (US & Canada)  \n",
       "2  Thu May 26 12:45:51 +0000 2016                        None  \n",
       "3  Thu May 26 12:46:02 +0000 2016  Eastern Time (US & Canada)  \n",
       "4  Thu May 26 12:46:10 +0000 2016  Pacific Time (US & Canada)  "
      ]
     },
     "execution_count": 11,
     "metadata": {},
     "output_type": "execute_result"
    }
   ],
   "source": [
    "pd_jnr_EAConsolidado.head()"
   ]
  },
  {
   "cell_type": "markdown",
   "metadata": {},
   "source": [
    "# Analisis de Datos con Pandas"
   ]
  },
  {
   "cell_type": "markdown",
   "metadata": {},
   "source": [
    "## NOTICIAS RELACIONADAS"
   ]
  },
  {
   "cell_type": "markdown",
   "metadata": {},
   "source": [
    "-Un avión de EgyptAir **se estrella con 66 personas** a bordo.\n",
    "\n",
    "-Egipto encuentra restos de un cuerpo entre las piezas del avión de EgyptAir\n",
    "\n",
    "-Egipto difunde fotos de fragmentos del avión siniestrado de Egyptair\n",
    "\n",
    "-Egipto y Rusia apuntan a que el avión de EgyptAir **sufrió un atentado**"
   ]
  },
  {
   "cell_type": "code",
   "execution_count": 15,
   "metadata": {
    "collapsed": false
   },
   "outputs": [
    {
     "data": {
      "text/plain": [
       "<matplotlib.text.Text at 0x7f0930ee8630>"
      ]
     },
     "execution_count": 15,
     "metadata": {},
     "output_type": "execute_result"
    },
    {
     "data": {
      "image/png": "[encoded data removed]",
      "text/plain": [
       "<matplotlib.figure.Figure at 0x7f09315ddf28>"
      ]
     },
     "metadata": {},
     "output_type": "display_data"
    }
   ],
   "source": [
    "projects_by_country = sqlContext.sql('select time_zone, count(time_zone) as total_time_zone from EAConsolidado group by time_zone order by total_time_zone desc').toPandas()\n",
    "projects_by_country_pd = projects_by_country.head(15)\n",
    "projects_by_country_pd=projects_by_country_pd.set_index(['time_zone'])\n",
    "\n",
    "projects_by_country_pd.plot(kind='barh')\n",
    "# Etiquetas de la tabla\n",
    "plt.xlabel('Número de Tweets')\n",
    "plt.ylabel('Zona Horaria')\n",
    "plt.title('Top 10 de Zonas Horarias donde se ha Tweeteado el TT #EgyptAir')\n"
   ]
  },
  {
   "cell_type": "markdown",
   "metadata": {},
   "source": [
    "- Contar el numero de Tweets por Zona Horaria y poner el Top 10\n",
    "- Del grafico anterior, se muestran de izquierda a derecha el mayor numero de Tweets acerca del TT EgypAir segun la zona horaria.\n",
    "- Lo anterior tambien marca un dato curioso que es la **zona de la tendencia**, la cual refleja el interes sobre la nota del avion.\n"
   ]
  },
  {
   "cell_type": "code",
   "execution_count": 32,
   "metadata": {
    "collapsed": false
   },
   "outputs": [
    {
     "data": {
      "text/plain": [
       "<matplotlib.text.Text at 0x7f0930971240>"
      ]
     },
     "execution_count": 32,
     "metadata": {},
     "output_type": "execute_result"
    },
    {
     "name": "stderr",
     "output_type": "stream",
     "text": [
      "/opt/conda/lib/python3.5/site-packages/matplotlib/font_manager.py:1288: UserWarning: findfont: Font family ['monospace'] not found. Falling back to Bitstream Vera Sans\n",
      "  (prop.get_family(), self.defaultFamily[fontext]))\n"
     ]
    },
    {
     "data": {
      "image/png": "[encoded data removed]",
      "text/plain": [
       "<matplotlib.figure.Figure at 0x7f09309db4e0>"
      ]
     },
     "metadata": {},
     "output_type": "display_data"
    }
   ],
   "source": [
    "projects_by_sentiment_pd = sqlContext.sql('select sentiment, count(sentiment) as total_sentiment from EAConsolidado group by sentiment order by total_sentiment desc').toPandas()\n",
    "projects_by_sentiment_pd = projects_by_sentiment_pd.head(20)\n",
    "projects_by_sentiment_pd=projects_by_sentiment_pd.set_index(['sentiment'])\n",
    "# Propiedades de Plot\n",
    "plt.rcParams['figure.figsize'] = (10, 10)\n",
    "projects_by_sentiment_pd.plot(kind='pie',subplots=True,autopct='%.2f',fontsize=20)\n",
    "plt.xlabel('Polaridad de sentimiento')\n",
    "plt.ylabel('Numero de Tweets')\n",
    "plt.title('Total de Tweets por sentimiento')\n"
   ]
  },
  {
   "cell_type": "markdown",
   "metadata": {},
   "source": [
    "- Tweets por categorias de Sentimiento\n",
    "- Del grafico anterior, se muestran las categorias mas relevante.\n",
    "- Lo anterior tambien marca un dato curioso que es la ** la tendencia **, la cual refleja el un sentimiento sobre la nota del avion de **Neutral a Negativo**.\n"
   ]
  }
 ],
 "metadata": {
  "kernelspec": {
   "display_name": "Python 3",
   "language": "python",
   "name": "python3"
  },
  "language_info": {
   "codemirror_mode": {
    "name": "ipython",
    "version": 3
   },
   "file_extension": ".py",
   "mimetype": "text/x-python",
   "name": "python",
   "nbconvert_exporter": "python",
   "pygments_lexer": "ipython3",
   "version": "3.5.1"
  },
  "widgets": {
   "state": {},
   "version": "1.1.1"
  }
 },
 "nbformat": 4,
 "nbformat_minor": 0
}
